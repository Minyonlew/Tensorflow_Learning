{
 "cells": [
  {
   "cell_type": "markdown",
   "metadata": {},
   "source": [
    "# 利用神经网络逼近股票收盘价格"
   ]
  },
  {
   "cell_type": "code",
   "execution_count": 1,
   "metadata": {},
   "outputs": [
    {
     "data": {
      "text/plain": [
       "'\\n有十五天的数据\\n    横坐标为 天数  从1到15\\n    纵坐标为 价格\\n\\n'"
      ]
     },
     "execution_count": 1,
     "metadata": {},
     "output_type": "execute_result"
    }
   ],
   "source": [
    "'''\n",
    "有十五天的数据\n",
    "    横坐标为 天数  从1到15\n",
    "    纵坐标为 价格\n",
    "\n",
    "'''"
   ]
  },
  {
   "cell_type": "code",
   "execution_count": 3,
   "metadata": {},
   "outputs": [
    {
     "name": "stdout",
     "output_type": "stream",
     "text": [
      "[ 1.  2.  3.  4.  5.  6.  7.  8.  9. 10. 11. 12. 13. 14. 15.]\n"
     ]
    },
    {
     "data": {
      "image/png": "[encoded data removed]",
      "text/plain": [
       "<matplotlib.figure.Figure at 0x179610916a0>"
      ]
     },
     "metadata": {},
     "output_type": "display_data"
    }
   ],
   "source": [
    "import tensorflow as tf\n",
    "import numpy as np\n",
    "import matplotlib.pyplot as plt\n",
    "\n",
    "data = np.linspace(1,15,15) #用data矩阵记录天数，linspace ：从1到15，一共15个数据\n",
    "#收盘价格\n",
    "endPrice = np.array([2511.90,2538.26,2510.68,2591.66,2732.98,2701.69,2701.29,2678.67,2726.50,2681.50,2739.17,2715.07,2823.58,2864.90,2919.08])\n",
    "#开盘价格\n",
    "beginPrice = np.array([2438.71,2500.88,2534.95,2521.52,2594.04,2743.26,2697.47,2695.24,2678.23,2722.13,2674.93,2744.13,2717.46,2832.73,2877.40])\n",
    "print(data)\n",
    "plt.figure()\n",
    "for i in range(0,15):           #绘制柱状图 有x和y坐标，且x，y坐标都是二维的\n",
    "    dataOne = np.zeros([2])     #dataOne矩阵有两个数据,代表着同一天\n",
    "    dataOne[0] = i              #所以两个数据都是相同的\n",
    "    dataOne[1] = i\n",
    "    pricreOne = np.zeros([2])\n",
    "    pricreOne[0] = beginPrice[i] #princeOne第一个数据放的是开盘价格\n",
    "    pricreOne[1] = endPrice[i]   #princeOne第二个数据放的是收盘价格\n",
    "    if endPrice[i] > beginPrice[i] :          #如果当天收盘价格大于开盘价格\n",
    "        plt.plot(dataOne,pricreOne,'r',lw=8)   #则说明上涨了，所以用红色来绘制\n",
    "\n",
    "    else:                                     #如果当天收盘价格小于开盘价格\n",
    "        plt.plot(dataOne,pricreOne,'g',lw=8)   #则说明下跌了，所以用绿色来绘制\n",
    "#plt.show()      #绘图\n",
    "'''\n",
    "神经网络\n",
    "公式：A :输入层 B :隐藏层 C :输出层 w1w2权重 b1b2偏移值\n",
    "     A(15x1)  * w1(1x10) + b1(1x10) =B(15x10)   ①\n",
    "     B(15x10) * w2(10x1) + b2(15x1) =C(15x1)    ②\n",
    "因此，按照公式即可实现\n",
    "'''\n",
    "#为了方便计算，先把数据归一化\n",
    "dateNormal = np.zeros([15,1])\n",
    "priceNormal = np.zeros([15,1])\n",
    "for i in range(0,15):\n",
    "    dateNormal[i,0] = i/14.0                    #日期从0开始，所以除以14\n",
    "    priceNormal[i,0] = endPrice[i]/3000.0       #价格不超过3000\n",
    "\n",
    "x = tf.placeholder(tf.float32,[None,1])    #数据的装载。x轴，表示天数，N行1列\n",
    "y = tf.placeholder(tf.float32,[None,1])\n",
    "\n",
    "#隐藏层\n",
    "w1 = tf.Variable(tf.random_uniform([1,10],0,1))     #因为要不断的更新w和b，所以都是变量。一行十列的矩阵，范围从0到1之间\n",
    "b1 = tf.Variable(tf.zeros([1,10]))\n",
    "wb1 = tf.matmul(x,w1)+b1                    #由公式①已知\n",
    "layer1 = tf.nn.relu(wb1)                    #激励函数\n",
    "\n",
    "#输出层\n",
    "w2 = tf.Variable(tf.random_uniform([10,1],0,1))\n",
    "b2 = tf.Variable(tf.zeros([15,1]))\n",
    "wb2 = tf.matmul(layer1,w2)+b2\n",
    "layer2 = tf.nn.relu(wb2)\n",
    "\n",
    "#算出神经网络得到的数 与 实际的数 的差值，从而调整w 和 b\n",
    "loss = tf.reduce_mean(tf.square(y-layer2))   #实际上是用实际的值减去预测的值 开方，再进行均值\n",
    "#训练的步骤：使用梯度下降法，其中的参数是 每次调整多少，目标是缩小loss\n",
    "train_step = tf.train.GradientDescentOptimizer(0.1).minimize(loss)\n",
    "\n",
    "with tf.Session() as sess:\n",
    "    sess.run(tf.global_variables_initializer()) #给变量初始化\n",
    "    for i in range(0,10000):                    #训练10000次\n",
    "        sess.run(train_step,feed_dict={x:dateNormal,y:priceNormal})     #训练需要输入x，且会得到一个相对精确的w1w2b1b2\n",
    "\n",
    "    pred = sess.run(layer2,feed_dict={x:dateNormal})#检测新的w1w2b1b2,所以再给它输入层x,得到一个新的预测值,且放到layer2中\n",
    "    #为了鉴定预测值，所以把它绘制为图像\n",
    "    predPrice = np.zeros([15,1])\n",
    "    for i in range(0,15):                #矩阵索引从0到14\n",
    "        predPrice[i,0]=(pred*3000)[i,0]  #由于之前归一化，所以现在要把它变回3000\n",
    "    plt.plot(data,predPrice,'b',lw=1)\n",
    "plt.show()\n"
   ]
  },
  {
   "cell_type": "code",
   "execution_count": null,
   "metadata": {},
   "outputs": [],
   "source": []
  }
 ],
 "metadata": {
  "kernelspec": {
   "display_name": "Python 3",
   "language": "python",
   "name": "python3"
  },
  "language_info": {
   "codemirror_mode": {
    "name": "ipython",
    "version": 3
   },
   "file_extension": ".py",
   "mimetype": "text/x-python",
   "name": "python",
   "nbconvert_exporter": "python",
   "pygments_lexer": "ipython3",
   "version": "3.6.4"
  }
 },
 "nbformat": 4,
 "nbformat_minor": 2
}
